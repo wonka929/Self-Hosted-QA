{
 "cells": [
  {
   "cell_type": "code",
   "execution_count": null,
   "metadata": {},
   "outputs": [],
   "source": [
    "from langchain.vectorstores import Chroma\n",
    "from langchain.embeddings import HuggingFaceEmbeddings \n",
    "from langchain.document_loaders import UnstructuredFileLoader\n",
    "from langchain.document_loaders import DirectoryLoader\n",
    "from langchain.indexes import VectorstoreIndexCreator\n",
    "from langchain.text_splitter import RecursiveCharacterTextSplitter\n",
    "\n",
    "\n",
    "embeddings = HuggingFaceEmbeddings(model_name=\"sentence-transformers/multi-qa-mpnet-base-dot-v1\")\n",
    "\n",
    "#with open(r\"C:\\Users\\Francesco\\Desktop\\The Psychology of Totalitarianism 2022- Mattias Desmet.txt\", encoding='utf-8') as f:\n",
    "#    book = f.read()\n",
    "\n",
    "#loader = [UnstructuredFileLoader(r\"C:\\Users\\Francesco\\Desktop\\The Psychology of Totalitarianism 2022- Mattias Desmet.pdf\", encoding='utf-8'), UnstructuredFileLoader(r\"C:\\Users\\Francesco\\Desktop\\The unhappiness machine.pdf\", encoding='utf-8')]\n",
    "#raw_documents = AnalyticDB.from_documents(loader, )\n",
    "\n",
    "loader = DirectoryLoader(r\"C:\\Users\\Francesco\\Documents\\GITHUB\\Self-Hosted-QA\\books\", silent_errors=True, show_progress=True)\n",
    "raw_documents = loader.load()\n",
    "\n",
    "# Split text\n",
    "text_splitter = RecursiveCharacterTextSplitter(chunk_size = 1000, chunk_overlap  = 20)\n",
    "documents = text_splitter.split_documents(raw_documents)\n",
    "\n",
    "docsearch = Chroma.from_documents(\n",
    "    documents, embeddings, persist_directory=\"db\", metadatas=[{\"source\": f\"{i}-pl\"} for i in range(len(documents))]\n",
    ")\n",
    "docsearch.persist()\n",
    "docsearch = None"
   ]
  },
  {
   "cell_type": "code",
   "execution_count": null,
   "metadata": {},
   "outputs": [],
   "source": [
    "from langchain.vectorstores import Chroma\n",
    "from langchain.embeddings import HuggingFaceEmbeddings \n",
    "from langchain.document_loaders import UnstructuredFileLoader\n",
    "from langchain.document_loaders import DirectoryLoader\n",
    "from langchain.indexes import VectorstoreIndexCreator\n",
    "from langchain.text_splitter import RecursiveCharacterTextSplitter\n",
    "\n",
    "\n",
    "embeddings = HuggingFaceEmbeddings(model_name=\"sentence-transformers/multi-qa-mpnet-base-dot-v1\")\n",
    "docsearch = Chroma(persist_directory=\"db\", embedding_function=embeddings)"
   ]
  },
  {
   "cell_type": "code",
   "execution_count": null,
   "metadata": {},
   "outputs": [],
   "source": [
    "## query the database using similarity search\n",
    "\n",
    "\n",
    "query = \"What happened with the inventions of the hard disk?\"\n",
    "\n",
    "if query == \"exit\":\n",
    "    pass\n",
    "else:\n",
    "    docs = docsearch.similarity_search_with_score(query, k=3)\n",
    "    for doc in docs:\n",
    "        print(doc[0].page_content)\n",
    "        print(doc[0].metadata[\"source\"])"
   ]
  },
  {
   "cell_type": "code",
   "execution_count": 7,
   "metadata": {},
   "outputs": [],
   "source": [
    "from langchain.chains import RetrievalQA\n",
    "from langchain import HuggingFacePipeline\n",
    "from langchain.vectorstores import Chroma\n",
    "\n",
    "llm = HuggingFacePipeline.from_model_id(model_id=\"bigscience/bloom-560m\", task=\"text-generation\", model_kwargs={\"temperature\":0, \"max_length\":1000})\n",
    "qa = RetrievalQA.from_chain_type(llm=llm, chain_type=\"stuff\", retriever=docsearch.as_retriever(), return_source_documents=True)"
   ]
  },
  {
   "cell_type": "code",
   "execution_count": null,
   "metadata": {},
   "outputs": [],
   "source": [
    "qa({\"query\": \"What happened with the inventions of the hard disk?\"}, return_only_outputs=True)"
   ]
  },
  {
   "cell_type": "code",
   "execution_count": null,
   "metadata": {},
   "outputs": [],
   "source": []
  }
 ],
 "metadata": {
  "kernelspec": {
   "display_name": "Python 3",
   "language": "python",
   "name": "python3"
  },
  "language_info": {
   "codemirror_mode": {
    "name": "ipython",
    "version": 3
   },
   "file_extension": ".py",
   "mimetype": "text/x-python",
   "name": "python",
   "nbconvert_exporter": "python",
   "pygments_lexer": "ipython3",
   "version": "3.11.3"
  },
  "orig_nbformat": 4
 },
 "nbformat": 4,
 "nbformat_minor": 2
}
