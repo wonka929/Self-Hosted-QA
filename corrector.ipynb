{
 "cells": [
  {
   "cell_type": "code",
   "execution_count": null,
   "metadata": {},
   "outputs": [],
   "source": [
    "from langchain.vectorstores import Chroma\n",
    "from langchain.embeddings import HuggingFaceEmbeddings \n",
    "from langchain.document_loaders import UnstructuredFileLoader\n",
    "from langchain.document_loaders import DirectoryLoader\n",
    "from langchain.indexes import VectorstoreIndexCreator\n",
    "from langchain.text_splitter import RecursiveCharacterTextSplitter\n",
    "\n",
    "\n",
    "embeddings = HuggingFaceEmbeddings(model_name=\"sentence-transformers/all-MiniLM-L6-v2\")\n",
    "\n",
    "#with open(r\"C:\\Users\\Francesco\\Desktop\\The Psychology of Totalitarianism 2022- Mattias Desmet.txt\", encoding='utf-8') as f:\n",
    "#    book = f.read()\n",
    "\n",
    "#loader = [UnstructuredFileLoader(r\"C:\\Users\\Francesco\\Desktop\\The Psychology of Totalitarianism 2022- Mattias Desmet.pdf\", encoding='utf-8'), UnstructuredFileLoader(r\"C:\\Users\\Francesco\\Desktop\\The unhappiness machine.pdf\", encoding='utf-8')]\n",
    "#raw_documents = AnalyticDB.from_documents(loader, )\n",
    "\n",
    "loader = DirectoryLoader(r\"C:\\Users\\Francesco\\Desktop\\books\", silent_errors=True, show_progress=True)\n",
    "raw_documents = loader.load()\n",
    "\n",
    "# Split text\n",
    "text_splitter = RecursiveCharacterTextSplitter(chunk_size = 1000, chunk_overlap  = 20)\n",
    "documents = text_splitter.split_documents(raw_documents)\n",
    "\n",
    "docsearch = Chroma.from_documents(\n",
    "    documents, embeddings, persist_directory=\"db\", metadatas=[{\"source\": f\"{i}-pl\"} for i in range(len(documents))]\n",
    ")\n",
    "docsearch.persist()\n",
    "docsearch = None"
   ]
  },
  {
   "cell_type": "code",
   "execution_count": 3,
   "metadata": {},
   "outputs": [
    {
     "name": "stderr",
     "output_type": "stream",
     "text": [
      "Using embedded DuckDB with persistence: data will be stored in: db\n"
     ]
    }
   ],
   "source": [
    "from langchain.vectorstores import Chroma\n",
    "from langchain.embeddings import HuggingFaceEmbeddings \n",
    "from langchain.document_loaders import UnstructuredFileLoader\n",
    "from langchain.document_loaders import DirectoryLoader\n",
    "from langchain.indexes import VectorstoreIndexCreator\n",
    "from langchain.text_splitter import RecursiveCharacterTextSplitter\n",
    "\n",
    "\n",
    "embeddings = HuggingFaceEmbeddings(model_name=\"sentence-transformers/all-MiniLM-L6-v2\")\n",
    "docsearch = Chroma(persist_directory=\"db\", embedding_function=embeddings)"
   ]
  },
  {
   "cell_type": "code",
   "execution_count": 9,
   "metadata": {},
   "outputs": [
    {
     "name": "stdout",
     "output_type": "stream",
     "text": [
      "5. Forget being formal.\n",
      "\n",
      "Most dinner parties don't call for anything fancy. Follow the KISS principle (Keep It Simple, Silly). Good food. Good people. Lots of wine. Good conversation. That's a successful dinner party. I always underdress just so no one else feels they did. Jeans and a jacket are my standard fare, but you judge for yourself.\n",
      "\n",
      "6. Don't seat couples together.\n",
      "\n",
      "The essence of a good dinner party lies in seating everyone prop erly. If you seat couples together, things can get boring. Mix and\n",
      "\n",
      "200\n",
      "\n",
      "Never Eat Alone\n",
      "\n",
      "match,  putting  people  together  who  don't  know  each  other  but perhaps share  an  interest of some kind.  I like to  set placeholders where I want people to sit. Each placeholder is a simple card with the guest's name on it. If I have the time, I love to put an interest ing question or joke on the back of the card that guests can use to break the ice with one another. Or you can go out and buy funny greeting cards just to make things interesting.\n",
      "\n",
      "7. Relax.\n",
      "C:\\Users\\Francesco\\Desktop\\books\\Never Eat Alone - Keith Ferrazzi.pdf\n",
      "3. Don't be a kitchen slave.\n",
      "\n",
      "There's no sense in a party being all work. If you can't hire a caterer, either cook all the food ahead of time or just use takeout. If the food is good and the presentation snazzy, your guests will be impressed. These days, I usually opt for a caterer. But you can have a sim-\n",
      "\n",
      "Find Anchor Tenants and Feed Them\n",
      "\n",
      "199\n",
      "\n",
      "ilarly elegant  party for much  less  if you're willing to  get creative and  spend  some  time  preparing.  The  key to  low-budget  dinner parties is to keep it simple. Make one large dish, like a stew or chili that can be prepared a day or two ahead of time. Serve it with great bread and salad. That's all you need.\n",
      "C:\\Users\\Francesco\\Desktop\\books\\Never Eat Alone - Keith Ferrazzi.pdf\n",
      "For  food,  I  told  him,  forget  about  cooking.  Get  some  salads and a roasted chicken from the deli. For dessert, buy some cookies and ice cream, and keep the wine flowing.\n",
      "\n",
      "The party was a huge success. Mark invited a potential client, me,  and  a  friend  I  brought  along.  All  four  of  us  are  now  his clients.\n",
      "\n",
      "You see, there's only one real rule to these get-togethers: Have fun. All right, there are a few other rules that might help you along the way. Among them:\n",
      "\n",
      "1. Create a theme.\n",
      "\n",
      "There  is  no  reason  that  a  small  dinner  party should  not  have  a theme.  One  simple  idea  can  help  you  pull  the  food  and  atmos phere together. You  can build a party around anything, really.  It could be your mother's meatloaf recipe, a holiday, black tie (used rarely, as we want  people to be totally comfortable), vegan food, specific  music—whatever  you  like.  People  will  get  jazzed  when they know you're being creative.\n",
      "\n",
      "Find Anchor Tenants and Feed Them\n",
      "\n",
      "197\n",
      "C:\\Users\\Francesco\\Desktop\\books\\Never Eat Alone - Keith Ferrazzi.pdf\n"
     ]
    }
   ],
   "source": [
    "## query the database using similarity search\n",
    "\n",
    "\n",
    "query = \"How can i organize the best dinner for getting people together?\"\n",
    "\n",
    "if query == \"exit\":\n",
    "    pass\n",
    "else:\n",
    "    docs = docsearch.similarity_search_with_score(query, k=3)\n",
    "    for doc in docs:\n",
    "        print(doc[0].page_content)\n",
    "        print(doc[0].metadata[\"source\"])"
   ]
  },
  {
   "cell_type": "code",
   "execution_count": 5,
   "metadata": {},
   "outputs": [
    {
     "name": "stderr",
     "output_type": "stream",
     "text": [
      "Downloading (…)okenizer_config.json: 100%|██████████| 222/222 [00:00<00:00, 966kB/s]\n",
      "Downloading tokenizer.json: 100%|██████████| 14.5M/14.5M [00:00<00:00, 17.0MB/s]\n",
      "Downloading (…)cial_tokens_map.json: 100%|██████████| 85.0/85.0 [00:00<00:00, 270kB/s]\n",
      "Downloading (…)lve/main/config.json: 100%|██████████| 693/693 [00:00<00:00, 3.84MB/s]\n",
      "Downloading pytorch_model.bin: 100%|██████████| 2.13G/2.13G [02:17<00:00, 15.5MB/s]\n"
     ]
    }
   ],
   "source": [
    "from langchain.chains import RetrievalQA\n",
    "from langchain import HuggingFacePipeline\n",
    "from langchain.vectorstores import Chroma\n",
    "\n",
    "llm = HuggingFacePipeline.from_model_id(model_id=\"bigscience/bloom-1b1\", task=\"text-generation\", model_kwargs={\"temperature\":0, \"max_length\":1000})\n",
    "qa = RetrievalQA.from_chain_type(llm=llm, chain_type=\"stuff\", retriever=docsearch.as_retriever(), return_source_documents=True)"
   ]
  },
  {
   "cell_type": "code",
   "execution_count": 12,
   "metadata": {},
   "outputs": [
    {
     "data": {
      "text/plain": [
       "{'result': '\\n\\n1. Set a theme. Set a theme for the dinner. For example, if you are going to a dinner party, you can set a theme for the dinner. For example, if you are going to a dinner party, you can set a theme for the dinner. For example, if you are going to a dinner party, you can set a theme for the dinner. For example, if you are going to a dinner party, you can set a theme for the dinner. For example, if you are going to a dinner party, you can set a theme for the dinner. For example, if you are going to a dinner party, you can set a theme for the dinner. For example, if you are going to a dinner party, you can set a theme for the dinner. For example, if you are going to a dinner party',\n",
       " 'source_documents': [Document(page_content=\"5. Forget being formal.\\n\\nMost dinner parties don't call for anything fancy. Follow the KISS principle (Keep It Simple, Silly). Good food. Good people. Lots of wine. Good conversation. That's a successful dinner party. I always underdress just so no one else feels they did. Jeans and a jacket are my standard fare, but you judge for yourself.\\n\\n6. Don't seat couples together.\\n\\nThe essence of a good dinner party lies in seating everyone prop erly. If you seat couples together, things can get boring. Mix and\\n\\n200\\n\\nNever Eat Alone\\n\\nmatch,  putting  people  together  who  don't  know  each  other  but perhaps share  an  interest of some kind.  I like to  set placeholders where I want people to sit. Each placeholder is a simple card with the guest's name on it. If I have the time, I love to put an interest ing question or joke on the back of the card that guests can use to break the ice with one another. Or you can go out and buy funny greeting cards just to make things interesting.\\n\\n7. Relax.\", metadata={'source': 'C:\\\\Users\\\\Francesco\\\\Desktop\\\\books\\\\Never Eat Alone - Keith Ferrazzi.pdf'}),\n",
       "  Document(page_content='While  these  kinds  of  dinners  can  often  cinch  an  important business deal, be careful not to include too many business associ ates on the invite list or business agendas in the discussion. Talk ing about budgets  and other management mumbo jumbo  all the\\n\\n194\\n\\nNever Eat Alone\\n\\ntime will ensure a dull  evening.  These events  are about building relationships.', metadata={'source': 'C:\\\\Users\\\\Francesco\\\\Desktop\\\\books\\\\Never Eat Alone - Keith Ferrazzi.pdf'}),\n",
       "  Document(page_content='So I made a simple suggestion. \"Lisa,  let\\'s  share  a few months  of dinner  parties. You  hold  a dinner party at the Bel-Air and give me half the invite list. Then I\\'ll hold one  of my dinner parties  and  give you half of the list. We\\'ll split the tab for each event, saving each of us a bundle of money, and together we\\'ll meet a lot of new, exciting people. By cohosting the events, we\\'ll make them that much more successful.\"\\n\\nLisa agreed, and our dinner parties were a huge  success. The unique mix of people from the worlds of business and entertain ment  was  fun  and  interesting.  Not  only  did  we  introduce  our friends to an entirely new group of people, but the dynamic at the parties was exhilarating.\\n\\nthe\\n\\nPoliticians,', metadata={'source': 'C:\\\\Users\\\\Francesco\\\\Desktop\\\\books\\\\Never Eat Alone - Keith Ferrazzi.pdf'}),\n",
       "  Document(page_content=\"To eat, we'd walk five steps to a small simple wooden table with no  tablecloth,  adorned  with  two  silver  candles.  The  chairs  were fold-out. Each plate had a big bowl of homemade chili on it and a torn-off piece of fresh bread. For dessert, he would serve ice cream and more champagne. It was simply perfect, and perfectly simple. Anyone  can  throw  a  dinner  party.  Let  me  give  you  an example—my former business manager, Mark Ramsay. I first met Mark when  he was  an  accountant for  another business  manager who  specialized  in  entertainment  clients.  He  was  an  unhappy camper back then, and he wanted to break out on his  own. After mustering  enough  courage,  at the  age  of twenty-five, he  opened his own operation. I became his first client.\\n\\nMark became a regular at my dinner parties in New York. As a  client  and  a  friend,  Mark  would  return  the  favor  by  inviting me  out  to  dinner  or  to  see  a  show.  After  a  few years,  however,\\n\\n196\", metadata={'source': 'C:\\\\Users\\\\Francesco\\\\Desktop\\\\books\\\\Never Eat Alone - Keith Ferrazzi.pdf'})]}"
      ]
     },
     "execution_count": 12,
     "metadata": {},
     "output_type": "execute_result"
    }
   ],
   "source": [
    "qa({\"query\": \"summarize: How can i organize the best dinner for getting people together? Sommarize in 5 points\"}, return_only_outputs=True)\n"
   ]
  },
  {
   "cell_type": "code",
   "execution_count": null,
   "metadata": {},
   "outputs": [],
   "source": []
  }
 ],
 "metadata": {
  "kernelspec": {
   "display_name": "Python 3",
   "language": "python",
   "name": "python3"
  },
  "language_info": {
   "codemirror_mode": {
    "name": "ipython",
    "version": 3
   },
   "file_extension": ".py",
   "mimetype": "text/x-python",
   "name": "python",
   "nbconvert_exporter": "python",
   "pygments_lexer": "ipython3",
   "version": "3.11.3"
  },
  "orig_nbformat": 4
 },
 "nbformat": 4,
 "nbformat_minor": 2
}
